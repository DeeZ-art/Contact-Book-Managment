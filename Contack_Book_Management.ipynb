{
 "cells": [
  {
   "cell_type": "markdown",
   "id": "f33c5527",
   "metadata": {},
   "source": [
    "# Contact Book Project\n"
   ]
  },
  {
   "cell_type": "code",
   "execution_count": 9,
   "id": "9cb26362",
   "metadata": {},
   "outputs": [],
   "source": [
    "import pandas as pd\n",
    "pd.set_option('display.max_rows',10)"
   ]
  },
  {
   "cell_type": "markdown",
   "id": "c306a6c9",
   "metadata": {},
   "source": [
    "## DataBase"
   ]
  },
  {
   "cell_type": "code",
   "execution_count": 261,
   "id": "3b3cab88",
   "metadata": {},
   "outputs": [
    {
     "data": {
      "text/html": [
       "<div>\n",
       "<style scoped>\n",
       "    .dataframe tbody tr th:only-of-type {\n",
       "        vertical-align: middle;\n",
       "    }\n",
       "\n",
       "    .dataframe tbody tr th {\n",
       "        vertical-align: top;\n",
       "    }\n",
       "\n",
       "    .dataframe thead th {\n",
       "        text-align: right;\n",
       "    }\n",
       "</style>\n",
       "<table border=\"1\" class=\"dataframe\">\n",
       "  <thead>\n",
       "    <tr style=\"text-align: right;\">\n",
       "      <th></th>\n",
       "      <th>First Name</th>\n",
       "      <th>Last Name</th>\n",
       "      <th>Phone</th>\n",
       "      <th>Email</th>\n",
       "      <th>DOB</th>\n",
       "    </tr>\n",
       "  </thead>\n",
       "  <tbody>\n",
       "    <tr>\n",
       "      <th>1</th>\n",
       "      <td>Deepak</td>\n",
       "      <td>Chaudhary</td>\n",
       "      <td>9300491920</td>\n",
       "      <td>flameoffire786@gmail.com</td>\n",
       "      <td>29/10/2001</td>\n",
       "    </tr>\n",
       "  </tbody>\n",
       "</table>\n",
       "</div>"
      ],
      "text/plain": [
       "  First Name  Last Name       Phone                     Email         DOB\n",
       "1     Deepak  Chaudhary  9300491920  flameoffire786@gmail.com  29/10/2001"
      ]
     },
     "execution_count": 261,
     "metadata": {},
     "output_type": "execute_result"
    }
   ],
   "source": [
    "di = {'First Name':'Deepak',\n",
    "      'Last Name': 'Chaudhary',\n",
    "     'Phone':'9300491920',\n",
    "     'Email':'flameoffire786@gmail.com',\n",
    "     'DOB':'29/10/2001'}\n",
    "Data = pd.DataFrame(di,index = range(1,2)) \n",
    "Data"
   ]
  },
  {
   "cell_type": "markdown",
   "id": "23231999",
   "metadata": {},
   "source": [
    "## Create Function"
   ]
  },
  {
   "cell_type": "code",
   "execution_count": 191,
   "id": "238a8211",
   "metadata": {},
   "outputs": [],
   "source": [
    "def CreateCon(Data):\n",
    "    fname = input(\"Enter your First Name: \")\n",
    "    lname = input(\"Enter your Last Name: \")\n",
    "    phone = input(\"Enter your Phone Number: \")\n",
    "    email = input(\"Enter your Email ID: \")\n",
    "    DOB = input(\"Enter your DateOfBirth: \")\n",
    "    di1 = {'First Name':fname,\n",
    "      'Last Name': lname,\n",
    "     'Phone':phone,\n",
    "     'Email':email,\n",
    "     'DOB':DOB}\n",
    "    Data1  = pd.DataFrame(di1,index = [len(Data.index)+1])\n",
    "    Res = pd.concat([Data,Data1])\n",
    "    print(\"<-------Contact Created------->\")\n",
    "    return Res\n"
   ]
  },
  {
   "cell_type": "markdown",
   "id": "941c4341",
   "metadata": {},
   "source": [
    "## Delete Function\n"
   ]
  },
  {
   "cell_type": "code",
   "execution_count": 201,
   "id": "797501d5",
   "metadata": {},
   "outputs": [],
   "source": [
    "def DeleteCon(Data):\n",
    "    num = input(\"Enter the Phone Number you want to delete: \")\n",
    "    if num in Data.values:\n",
    "        print(Data[Data['Phone']==num])\n",
    "        res = Data.drop(Data[Data['Phone']==num].index.values)\n",
    "        print(\"<-------Contact Deleted------->\")\n",
    "        return res\n",
    "    else:\n",
    "        print(\"Number doesn't exist in the CBook\")\n",
    "        return"
   ]
  },
  {
   "cell_type": "markdown",
   "id": "ff6d73e5",
   "metadata": {},
   "source": [
    "## Update Function"
   ]
  },
  {
   "cell_type": "code",
   "execution_count": 260,
   "id": "fc66b676",
   "metadata": {},
   "outputs": [],
   "source": [
    "def UpdateCon(Data):\n",
    "    num = input(\"Enter the Phone number you want to Update: \")\n",
    "    if num in Data.values:\n",
    "        print(\"Data present: \")\n",
    "        print(Data[Data['Phone']==num])\n",
    "        fname = input(\"Enter your First Name: \")\n",
    "        lname = input(\"Enter your Last Name: \")\n",
    "        phone = input(\"Enter your Phone Number: \")\n",
    "        email = input(\"Enter your Email ID: \")\n",
    "        DOB = input(\"Enter your DateOfBirth: \")\n",
    "        res = [fname,lname,phone,email,DOB]\n",
    "        return num,res\n",
    "    else:\n",
    "        print(\"Number doesn't exist in the CBook\")\n",
    "        return"
   ]
  },
  {
   "cell_type": "markdown",
   "id": "3b070541",
   "metadata": {},
   "source": [
    "## Create Group Functionality"
   ]
  },
  {
   "cell_type": "markdown",
   "id": "fa1fd632",
   "metadata": {},
   "source": [
    "## Driver Code"
   ]
  },
  {
   "cell_type": "code",
   "execution_count": 267,
   "id": "75750a41",
   "metadata": {},
   "outputs": [
    {
     "name": "stdout",
     "output_type": "stream",
     "text": [
      "<--------Welcome to the Contact Book-------->\n",
      "For Creating a new contact press 1\n",
      "For Updating a Contact press 2\n",
      "For Deleting a Contact press 3\n",
      "Enter your choice: 1\n",
      "Enter your First Name: Mahima\n",
      "Enter your Last Name: Shekhawat\n",
      "Enter your Phone Number: 8839054030\n",
      "Enter your Email ID: mahi@gmail.com\n",
      "Enter your DateOfBirth: 4/1/2002\n",
      "<-------Contact Created------->\n"
     ]
    }
   ],
   "source": [
    "print(\"<--------Welcome to the Contact Book-------->\")\n",
    "print(\"For Creating a new contact press 1\\nFor Updating a Contact press 2\\nFor Deleting a Contact press 3\\nFor creating a group\")\n",
    "opt = int(input(\"Enter your choice: \"))\n",
    "if opt==1: Data = CreateCon(Data)\n",
    "elif opt==2: \n",
    "    num,res = UpdateCon(Data)\n",
    "    Data.loc[Data[Data['Phone']==num].index.values,['First Name','Last Name','Phone','Email','DOB']]=res\n",
    "    print(\"<-------Contact Updated------->\")\n",
    "elif opt==3: Data = DeleteCon(Data)\n",
    "elif opt==4: Data = CreateGro(Data)\n",
    "else: print(\"Invalid Input\")"
   ]
  },
  {
   "cell_type": "code",
   "execution_count": 268,
   "id": "6fdb1782",
   "metadata": {},
   "outputs": [
    {
     "data": {
      "text/html": [
       "<div>\n",
       "<style scoped>\n",
       "    .dataframe tbody tr th:only-of-type {\n",
       "        vertical-align: middle;\n",
       "    }\n",
       "\n",
       "    .dataframe tbody tr th {\n",
       "        vertical-align: top;\n",
       "    }\n",
       "\n",
       "    .dataframe thead th {\n",
       "        text-align: right;\n",
       "    }\n",
       "</style>\n",
       "<table border=\"1\" class=\"dataframe\">\n",
       "  <thead>\n",
       "    <tr style=\"text-align: right;\">\n",
       "      <th></th>\n",
       "      <th>First Name</th>\n",
       "      <th>Last Name</th>\n",
       "      <th>Phone</th>\n",
       "      <th>Email</th>\n",
       "      <th>DOB</th>\n",
       "    </tr>\n",
       "  </thead>\n",
       "  <tbody>\n",
       "    <tr>\n",
       "      <th>1</th>\n",
       "      <td>Deez</td>\n",
       "      <td>Chaudhary</td>\n",
       "      <td>9876543210</td>\n",
       "      <td>flame@gmail.com</td>\n",
       "      <td>29/10/2001</td>\n",
       "    </tr>\n",
       "    <tr>\n",
       "      <th>2</th>\n",
       "      <td>Avinash</td>\n",
       "      <td>Kursija</td>\n",
       "      <td>9827265240</td>\n",
       "      <td>avi@gmail.com</td>\n",
       "      <td>1/1/2002</td>\n",
       "    </tr>\n",
       "    <tr>\n",
       "      <th>3</th>\n",
       "      <td>Mahima</td>\n",
       "      <td>Shekhawat</td>\n",
       "      <td>8839054030</td>\n",
       "      <td>mahi@gmail.com</td>\n",
       "      <td>4/1/2002</td>\n",
       "    </tr>\n",
       "  </tbody>\n",
       "</table>\n",
       "</div>"
      ],
      "text/plain": [
       "  First Name  Last Name       Phone            Email         DOB\n",
       "1       Deez  Chaudhary  9876543210  flame@gmail.com  29/10/2001\n",
       "2    Avinash    Kursija  9827265240    avi@gmail.com    1/1/2002\n",
       "3     Mahima  Shekhawat  8839054030   mahi@gmail.com    4/1/2002"
      ]
     },
     "execution_count": 268,
     "metadata": {},
     "output_type": "execute_result"
    }
   ],
   "source": [
    "Data"
   ]
  },
  {
   "cell_type": "code",
   "execution_count": 275,
   "id": "ca33168a",
   "metadata": {},
   "outputs": [
    {
     "name": "stdout",
     "output_type": "stream",
     "text": [
      "0\n"
     ]
    }
   ],
   "source": [
    "print(0)\n",
    "\n"
   ]
  },
  {
   "cell_type": "code",
   "execution_count": null,
   "id": "97ce613f",
   "metadata": {},
   "outputs": [],
   "source": []
  },
  {
   "cell_type": "code",
   "execution_count": null,
   "id": "99854e5e",
   "metadata": {},
   "outputs": [],
   "source": []
  },
  {
   "cell_type": "code",
   "execution_count": null,
   "id": "08338b2e",
   "metadata": {},
   "outputs": [],
   "source": []
  },
  {
   "cell_type": "code",
   "execution_count": null,
   "id": "9862832a",
   "metadata": {},
   "outputs": [],
   "source": []
  },
  {
   "cell_type": "code",
   "execution_count": null,
   "id": "c2f54f99",
   "metadata": {},
   "outputs": [],
   "source": []
  },
  {
   "cell_type": "code",
   "execution_count": null,
   "id": "c04cc2be",
   "metadata": {},
   "outputs": [],
   "source": []
  }
 ],
 "metadata": {
  "kernelspec": {
   "display_name": "Python 3 (ipykernel)",
   "language": "python",
   "name": "python3"
  },
  "language_info": {
   "codemirror_mode": {
    "name": "ipython",
    "version": 3
   },
   "file_extension": ".py",
   "mimetype": "text/x-python",
   "name": "python",
   "nbconvert_exporter": "python",
   "pygments_lexer": "ipython3",
   "version": "3.10.1"
  }
 },
 "nbformat": 4,
 "nbformat_minor": 5
}
