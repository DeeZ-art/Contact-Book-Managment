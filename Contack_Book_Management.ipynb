{
 "cells": [
  {
   "cell_type": "markdown",
   "id": "78ccce7c",
   "metadata": {},
   "source": [
    "# Contact Book Project\n"
   ]
  },
  {
   "cell_type": "code",
   "execution_count": 9,
   "id": "3df4a42c",
   "metadata": {},
   "outputs": [],
   "source": [
    "import pandas as pd\n",
    "pd.set_option('display.max_rows',10)"
   ]
  },
  {
   "cell_type": "markdown",
   "id": "216a5500",
   "metadata": {},
   "source": [
    "## DataBase"
   ]
  },
  {
   "cell_type": "code",
   "execution_count": 279,
   "id": "cf5b9c14",
   "metadata": {},
   "outputs": [
    {
     "data": {
      "text/html": [
       "<div>\n",
       "<style scoped>\n",
       "    .dataframe tbody tr th:only-of-type {\n",
       "        vertical-align: middle;\n",
       "    }\n",
       "\n",
       "    .dataframe tbody tr th {\n",
       "        vertical-align: top;\n",
       "    }\n",
       "\n",
       "    .dataframe thead th {\n",
       "        text-align: right;\n",
       "    }\n",
       "</style>\n",
       "<table border=\"1\" class=\"dataframe\">\n",
       "  <thead>\n",
       "    <tr style=\"text-align: right;\">\n",
       "      <th></th>\n",
       "      <th>First Name</th>\n",
       "      <th>Last Name</th>\n",
       "      <th>Phone</th>\n",
       "      <th>Email</th>\n",
       "      <th>DOB</th>\n",
       "      <th>Group</th>\n",
       "    </tr>\n",
       "  </thead>\n",
       "  <tbody>\n",
       "    <tr>\n",
       "      <th>1</th>\n",
       "      <td>Deepak</td>\n",
       "      <td>Chaudhary</td>\n",
       "      <td>9300491920</td>\n",
       "      <td>flameoffire786@gmail.com</td>\n",
       "      <td>29/10/2001</td>\n",
       "      <td></td>\n",
       "    </tr>\n",
       "  </tbody>\n",
       "</table>\n",
       "</div>"
      ],
      "text/plain": [
       "  First Name  Last Name       Phone                     Email         DOB   \n",
       "1     Deepak  Chaudhary  9300491920  flameoffire786@gmail.com  29/10/2001  \\\n",
       "\n",
       "  Group  \n",
       "1        "
      ]
     },
     "execution_count": 279,
     "metadata": {},
     "output_type": "execute_result"
    }
   ],
   "source": [
    "di = {'First Name':'Deepak',\n",
    "      'Last Name': 'Chaudhary',\n",
    "     'Phone':'9300491920',\n",
    "     'Email':'flameoffire786@gmail.com',\n",
    "     'DOB':'29/10/2001'}\n",
    "Data = pd.DataFrame(di,index = range(1,2)) \n",
    "Data['Group']=\" \"\n",
    "Data"
   ]
  },
  {
   "cell_type": "markdown",
   "id": "5a1fc83f",
   "metadata": {},
   "source": [
    "## Create Function"
   ]
  },
  {
   "cell_type": "code",
   "execution_count": 191,
   "id": "b83ab428",
   "metadata": {},
   "outputs": [],
   "source": [
    "def CreateCon(Data):\n",
    "    fname = input(\"Enter your First Name: \")\n",
    "    lname = input(\"Enter your Last Name: \")\n",
    "    phone = input(\"Enter your Phone Number: \")\n",
    "    email = input(\"Enter your Email ID: \")\n",
    "    DOB = input(\"Enter your DateOfBirth: \")\n",
    "    di1 = {'First Name':fname,\n",
    "      'Last Name': lname,\n",
    "     'Phone':phone,\n",
    "     'Email':email,\n",
    "     'DOB':DOB}\n",
    "    Data1  = pd.DataFrame(di1,index = [len(Data.index)+1])\n",
    "    Res = pd.concat([Data,Data1])\n",
    "    print(\"<-------Contact Created------->\")\n",
    "    return Res\n"
   ]
  },
  {
   "cell_type": "markdown",
   "id": "244446d6",
   "metadata": {},
   "source": [
    "## Delete Function\n"
   ]
  },
  {
   "cell_type": "code",
   "execution_count": 201,
   "id": "a2f5bf81",
   "metadata": {},
   "outputs": [],
   "source": [
    "def DeleteCon(Data):\n",
    "    num = input(\"Enter the Phone Number you want to delete: \")\n",
    "    if num in Data.values:\n",
    "        print(Data[Data['Phone']==num])\n",
    "        res = Data.drop(Data[Data['Phone']==num].index.values)\n",
    "        print(\"<-------Contact Deleted------->\")\n",
    "        return res\n",
    "    else:\n",
    "        print(\"Number doesn't exist in the CBook\")\n",
    "        return"
   ]
  },
  {
   "cell_type": "markdown",
   "id": "de52d601",
   "metadata": {},
   "source": [
    "## Update Function"
   ]
  },
  {
   "cell_type": "code",
   "execution_count": 260,
   "id": "1d5849b4",
   "metadata": {},
   "outputs": [],
   "source": [
    "def UpdateCon(Data):\n",
    "    num = input(\"Enter the Phone number you want to Update: \")\n",
    "    if num in Data.values:\n",
    "        print(\"Data present: \")\n",
    "        print(Data[Data['Phone']==num])\n",
    "        fname = input(\"Enter your First Name: \")\n",
    "        lname = input(\"Enter your Last Name: \")\n",
    "        phone = input(\"Enter your Phone Number: \")\n",
    "        email = input(\"Enter your Email ID: \")\n",
    "        DOB = input(\"Enter your DateOfBirth: \")\n",
    "        res = [fname,lname,phone,email,DOB]\n",
    "        return num,res\n",
    "    else:\n",
    "        print(\"Number doesn't exist in the CBook\")\n",
    "        return"
   ]
  },
  {
   "cell_type": "markdown",
   "id": "f1c4fc6a",
   "metadata": {},
   "source": [
    "## Create Group Functionality"
   ]
  },
  {
   "cell_type": "code",
   "execution_count": 295,
   "id": "1c656998",
   "metadata": {},
   "outputs": [],
   "source": [
    "def CreateGro(Data):\n",
    "    Gname = input(\"Enter the group name: \")\n",
    "    n = int(input(\"Enter the number of members you want to add: \"))\n",
    "    if n<= len(Data.index):\n",
    "        num = [input(\"Enter the phone number: \") for i in range(n)]\n",
    "        return num,Gname\n",
    "    else:\n",
    "        print(\"Only\",len(Data.index),\"members exists\")\n",
    "        return \n",
    "    "
   ]
  },
  {
   "cell_type": "markdown",
   "id": "2b50cc59",
   "metadata": {},
   "source": [
    "## Searching Function\n"
   ]
  },
  {
   "cell_type": "code",
   "execution_count": 308,
   "id": "e7b1c2e9",
   "metadata": {},
   "outputs": [],
   "source": [
    "def SearchPro(Data):\n",
    "    print(\"For Searching a profile press 1\\nFor searching a group members press 2\")\n",
    "    x = int(input(\"Enter your choice: \"))\n",
    "    if x ==1:\n",
    "        num = input(\"Enter the Phone number of the user here: \")\n",
    "        if num in Data.values:\n",
    "            print(Data[Data['Phone']==num])\n",
    "            return\n",
    "        else:\n",
    "            print(num,\"Doesn't exist\")\n",
    "    elif x ==2:\n",
    "        Gname = input(\"Enter the group name: \")\n",
    "        if Gname in Data.values:\n",
    "            print(Data[Data['Group']==Gname])\n",
    "            return\n",
    "        else:\n",
    "            print(Gname,\"Doesn't exist\")            \n",
    "\n",
    "    "
   ]
  },
  {
   "cell_type": "markdown",
   "id": "887986ea",
   "metadata": {},
   "source": [
    "## Driver Code"
   ]
  },
  {
   "cell_type": "code",
   "execution_count": 309,
   "id": "0050e463",
   "metadata": {},
   "outputs": [
    {
     "name": "stdout",
     "output_type": "stream",
     "text": [
      "<--------Welcome to the Contact Book-------->\n",
      "For Creating a new contact press 1\n",
      "For Updating a Contact press 2\n",
      "For Deleting a Contact press 3\n",
      "For creating a group press 4\n",
      "For Searching Profile press 5\n",
      "Enter your choice: 5\n",
      "For Searching a profile press 1\n",
      "For searching a group members press 2\n",
      "Enter your choice: 1\n",
      "Enter the Phone number of the user here: 9300491920\n",
      "  First Name  Last Name       Phone                     Email         DOB   \n",
      "1     Deepak  Chaudhary  9300491920  flameoffire786@gmail.com  29/10/2001  \\\n",
      "\n",
      "  Group  \n",
      "1    DC  \n"
     ]
    }
   ],
   "source": [
    "print(\"<--------Welcome to the Contact Book-------->\")\n",
    "print(\"For Creating a new contact press 1\\nFor Updating a Contact press 2\\nFor Deleting a Contact press 3\\nFor creating a group press 4\\nFor Searching Profile press 5\")\n",
    "opt = int(input(\"Enter your choice: \"))\n",
    "if opt==1: Data = CreateCon(Data)\n",
    "elif opt==2: \n",
    "    num,res = UpdateCon(Data)\n",
    "    Data.loc[Data[Data['Phone']==num].index.values,['First Name','Last Name','Phone','Email','DOB']]=res\n",
    "    print(\"<-------Contact Updated------->\")\n",
    "elif opt==3: Data = DeleteCon(Data)\n",
    "elif opt==4:\n",
    "    num,Gname = CreateGro(Data)\n",
    "    for i in num:\n",
    "        if i in Data.values:\n",
    "            Data.loc[Data[Data['Phone']==i].index.values,['Group']]=Gname\n",
    "            print(i,\"Added to the group\",Gname)\n",
    "        else:\n",
    "            print(i,\"Doesn't Exists\")\n",
    "elif opt==5:\n",
    "    SearchPro(Data)\n",
    "        \n",
    "else: print(\"Invalid Input\")"
   ]
  },
  {
   "cell_type": "code",
   "execution_count": 302,
   "id": "4a1aabc4",
   "metadata": {},
   "outputs": [
    {
     "data": {
      "text/html": [
       "<div>\n",
       "<style scoped>\n",
       "    .dataframe tbody tr th:only-of-type {\n",
       "        vertical-align: middle;\n",
       "    }\n",
       "\n",
       "    .dataframe tbody tr th {\n",
       "        vertical-align: top;\n",
       "    }\n",
       "\n",
       "    .dataframe thead th {\n",
       "        text-align: right;\n",
       "    }\n",
       "</style>\n",
       "<table border=\"1\" class=\"dataframe\">\n",
       "  <thead>\n",
       "    <tr style=\"text-align: right;\">\n",
       "      <th></th>\n",
       "      <th>First Name</th>\n",
       "      <th>Last Name</th>\n",
       "      <th>Phone</th>\n",
       "      <th>Email</th>\n",
       "      <th>DOB</th>\n",
       "      <th>Group</th>\n",
       "    </tr>\n",
       "  </thead>\n",
       "  <tbody>\n",
       "    <tr>\n",
       "      <th>1</th>\n",
       "      <td>Deepak</td>\n",
       "      <td>Chaudhary</td>\n",
       "      <td>9300491920</td>\n",
       "      <td>flameoffire786@gmail.com</td>\n",
       "      <td>29/10/2001</td>\n",
       "      <td>DC</td>\n",
       "    </tr>\n",
       "    <tr>\n",
       "      <th>2</th>\n",
       "      <td>Mahima</td>\n",
       "      <td>Shekhawat</td>\n",
       "      <td>8839054030</td>\n",
       "      <td>blazefire@gmail.com</td>\n",
       "      <td>4/1/2002</td>\n",
       "      <td>AK</td>\n",
       "    </tr>\n",
       "    <tr>\n",
       "      <th>3</th>\n",
       "      <td>Sahil</td>\n",
       "      <td>Chaudhary</td>\n",
       "      <td>9340541046</td>\n",
       "      <td>sahilchaudhary@gmail.com</td>\n",
       "      <td>11/12/2003</td>\n",
       "      <td>AK</td>\n",
       "    </tr>\n",
       "    <tr>\n",
       "      <th>4</th>\n",
       "      <td>Avinash</td>\n",
       "      <td>Kursija</td>\n",
       "      <td>9827265240</td>\n",
       "      <td>Avi@gmail.com</td>\n",
       "      <td>12/2/2005</td>\n",
       "      <td>DC</td>\n",
       "    </tr>\n",
       "  </tbody>\n",
       "</table>\n",
       "</div>"
      ],
      "text/plain": [
       "  First Name  Last Name       Phone                     Email         DOB   \n",
       "1     Deepak  Chaudhary  9300491920  flameoffire786@gmail.com  29/10/2001  \\\n",
       "2     Mahima  Shekhawat  8839054030       blazefire@gmail.com    4/1/2002   \n",
       "3      Sahil  Chaudhary  9340541046  sahilchaudhary@gmail.com  11/12/2003   \n",
       "4    Avinash    Kursija  9827265240             Avi@gmail.com   12/2/2005   \n",
       "\n",
       "  Group  \n",
       "1    DC  \n",
       "2    AK  \n",
       "3    AK  \n",
       "4    DC  "
      ]
     },
     "execution_count": 302,
     "metadata": {},
     "output_type": "execute_result"
    }
   ],
   "source": [
    "Data"
   ]
  },
  {
   "cell_type": "code",
   "execution_count": 294,
   "id": "af6de4a3",
   "metadata": {},
   "outputs": [
    {
     "data": {
      "text/plain": [
       "1    9300491920\n",
       "2    8839054030\n",
       "3    9340541046\n",
       "4    9827265240\n",
       "Name: Phone, dtype: object"
      ]
     },
     "execution_count": 294,
     "metadata": {},
     "output_type": "execute_result"
    }
   ],
   "source": [
    "Data['Phone']"
   ]
  },
  {
   "cell_type": "code",
   "execution_count": null,
   "id": "9286dd61",
   "metadata": {},
   "outputs": [],
   "source": []
  },
  {
   "cell_type": "code",
   "execution_count": null,
   "id": "6b223429",
   "metadata": {},
   "outputs": [],
   "source": []
  },
  {
   "cell_type": "code",
   "execution_count": null,
   "id": "3184bc2e",
   "metadata": {},
   "outputs": [],
   "source": []
  },
  {
   "cell_type": "code",
   "execution_count": null,
   "id": "5e09d126",
   "metadata": {},
   "outputs": [],
   "source": []
  },
  {
   "cell_type": "code",
   "execution_count": null,
   "id": "82cfe3b8",
   "metadata": {},
   "outputs": [],
   "source": []
  },
  {
   "cell_type": "code",
   "execution_count": null,
   "id": "ba7dc899",
   "metadata": {},
   "outputs": [],
   "source": []
  }
 ],
 "metadata": {
  "kernelspec": {
   "display_name": "Python 3 (ipykernel)",
   "language": "python",
   "name": "python3"
  },
  "language_info": {
   "codemirror_mode": {
    "name": "ipython",
    "version": 3
   },
   "file_extension": ".py",
   "mimetype": "text/x-python",
   "name": "python",
   "nbconvert_exporter": "python",
   "pygments_lexer": "ipython3",
   "version": "3.10.1"
  }
 },
 "nbformat": 4,
 "nbformat_minor": 5
}
